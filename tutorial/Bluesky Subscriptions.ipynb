{
 "cells": [
  {
   "cell_type": "markdown",
   "metadata": {},
   "source": [
    "# Bluesky Subscriptions\n",
    "\n",
    "The RunEngine generates Documents, Python dictionaries containing metadata and data. The RunEngine maintains a list of \"callbacks\" that consume these Documents."
   ]
  },
  {
   "cell_type": "code",
   "execution_count": 0,
   "metadata": {
    "collapsed": false
   },
   "outputs": [],
   "source": [
    "%matplotlib notebook\n",
    "from bluesky.examples import motor, det\n",
    "from bluesky.run_engine import RunEngine\n",
    "from bluesky.plans import AbsScanPlan\n",
    "from bluesky.callbacks import LiveTable, LivePlot"
   ]
  },
  {
   "cell_type": "code",
   "execution_count": 0,
   "metadata": {
    "collapsed": false
   },
   "outputs": [],
   "source": [
    "RE = RunEngine({'owner': 'demo', 'group': 'demo', 'beamline_id': 'demo'})"
   ]
  },
  {
   "cell_type": "code",
   "execution_count": 0,
   "metadata": {
    "collapsed": false
   },
   "outputs": [],
   "source": [
    "plan = AbsScanPlan([det], motor, 1, 5, 5)"
   ]
  },
  {
   "cell_type": "markdown",
   "metadata": {},
   "source": [
    "This moves the motor and reads from the motor and the detector, but the data goes nowhere."
   ]
  },
  {
   "cell_type": "code",
   "execution_count": 0,
   "metadata": {
    "collapsed": false
   },
   "outputs": [],
   "source": [
    "RE(plan)"
   ]
  },
  {
   "cell_type": "markdown",
   "metadata": {},
   "source": [
    "## Three ways to add a callback\n",
    "\n",
    "### 1. Use a callback just for one run."
   ]
  },
  {
   "cell_type": "code",
   "execution_count": 0,
   "metadata": {
    "collapsed": false
   },
   "outputs": [],
   "source": [
    "RE(plan, LiveTable(['det']))"
   ]
  },
  {
   "cell_type": "markdown",
   "metadata": {},
   "source": [
    "### 2. Associate the callback with the `plan` object itself."
   ]
  },
  {
   "cell_type": "code",
   "execution_count": 0,
   "metadata": {
    "collapsed": true
   },
   "outputs": [],
   "source": [
    "plan.subs = LiveTable(['det'])"
   ]
  },
  {
   "cell_type": "code",
   "execution_count": 0,
   "metadata": {
    "collapsed": false
   },
   "outputs": [],
   "source": [
    "RE(plan)"
   ]
  },
  {
   "cell_type": "markdown",
   "metadata": {},
   "source": [
    "A list of callbacks is also accepted."
   ]
  },
  {
   "cell_type": "code",
   "execution_count": 0,
   "metadata": {
    "collapsed": false
   },
   "outputs": [],
   "source": [
    "plan.subs = [LiveTable(['det']), LivePlot('det')]\n",
    "# Calling LivePlot creates the figure. When a run a scan with ascan, it will be filled with data."
   ]
  },
  {
   "cell_type": "code",
   "execution_count": 0,
   "metadata": {
    "collapsed": false
   },
   "outputs": [],
   "source": [
    "RE(plan)"
   ]
  },
  {
   "cell_type": "code",
   "execution_count": 0,
   "metadata": {
    "collapsed": false
   },
   "outputs": [],
   "source": [
    "# Run again -- with slightly different settings -- and see the plot above updated.\n",
    "plan.num = 3\n",
    "RE(plan)"
   ]
  },
  {
   "cell_type": "markdown",
   "metadata": {},
   "source": [
    "### 3. Run a callback on all runs by associating it with `RE` itself.\n",
    "\n",
    "This is less common. Notice that, in this case, we require you to specify which kinds of Documents should be sent to the callback: start, stop, descriptor, event, or all.\n",
    "\n",
    "```\n",
    "RE.subscribe('all', some_callback)\n",
    "```"
   ]
  },
  {
   "cell_type": "markdown",
   "metadata": {},
   "source": [
    "## Writing custom callbacks"
   ]
  },
  {
   "cell_type": "code",
   "execution_count": 0,
   "metadata": {
    "collapsed": false
   },
   "outputs": [],
   "source": [
    "def my_callback(name, doc):\n",
    "    \"a very simple custom callback\"\n",
    "    if name == 'start':\n",
    "        print('My scan id is', doc['scan_id'])\n",
    "    elif name == 'event':\n",
    "        print('This is event number', doc['seq_num'])\n",
    "    elif name == 'stop':\n",
    "        print('We are done')"
   ]
  },
  {
   "cell_type": "code",
   "execution_count": 0,
   "metadata": {
    "collapsed": false
   },
   "outputs": [],
   "source": [
    "RE(plan, my_callback)"
   ]
  },
  {
   "cell_type": "markdown",
   "metadata": {},
   "source": [
    "A utility class, `CallbackBase`, is provided to handle the boilerplate dispatching of different document types."
   ]
  },
  {
   "cell_type": "code",
   "execution_count": 0,
   "metadata": {
    "collapsed": false
   },
   "outputs": [],
   "source": [
    "from bluesky.callbacks import CallbackBase\n",
    "\n",
    "class MyLiveCallback(CallbackBase):\n",
    "    \"\"\"\n",
    "    The CallbackBase class dispatches each kind of document\n",
    "    to an associated method.\n",
    "    \"\"\"\n",
    "    \n",
    "    def start(self, doc):\n",
    "        print(doc)\n",
    "    \n",
    "    def event(self, doc):\n",
    "        print(doc)\n",
    "    \n",
    "    def descriptor(self, doc):\n",
    "        print(doc)\n",
    "    \n",
    "    def stop(self, doc):\n",
    "        print(doc)"
   ]
  },
  {
   "cell_type": "code",
   "execution_count": 0,
   "metadata": {
    "collapsed": false
   },
   "outputs": [],
   "source": [
    "RE(plan, MyLiveCallback())"
   ]
  },
  {
   "cell_type": "code",
   "execution_count": 0,
   "metadata": {
    "collapsed": true
   },
   "outputs": [],
   "source": []
  }
 ],
 "metadata": {
  "kernelspec": {
   "display_name": "Python 3",
   "language": "python",
   "name": "python3"
  },
  "language_info": {
   "codemirror_mode": {
    "name": "ipython",
    "version": 3
   },
   "file_extension": ".py",
   "mimetype": "text/x-python",
   "name": "python",
   "nbconvert_exporter": "python",
   "pygments_lexer": "ipython3",
   "version": "3.4.4"
  }
 },
 "nbformat": 4,
 "nbformat_minor": 0
}