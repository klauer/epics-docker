{
 "cells": [
  {
   "cell_type": "markdown",
   "metadata": {},
   "source": [
    "# Library of Plans"
   ]
  },
  {
   "cell_type": "code",
   "execution_count": 0,
   "metadata": {
    "collapsed": true
   },
   "outputs": [],
   "source": [
    "from bluesky import RunEngine\n",
    "from bluesky.callbacks import LiveTable\n",
    "from bluesky.examples import motor, det\n",
    "\n",
    "\n",
    "RE = RunEngine({'owner': 'demo', 'group': 'demo', 'beamline_id': 'demo'})"
   ]
  },
  {
   "cell_type": "markdown",
   "metadata": {},
   "source": [
    "## How to use a plan\n",
    "\n",
    "We'll start with a simple plan which moves nothing but takes one measurement (a \"count\") from a list of detectors."
   ]
  },
  {
   "cell_type": "code",
   "execution_count": 0,
   "metadata": {
    "collapsed": false
   },
   "outputs": [],
   "source": [
    "from bluesky.plans import Count"
   ]
  },
  {
   "cell_type": "code",
   "execution_count": 0,
   "metadata": {
    "collapsed": false
   },
   "outputs": [],
   "source": [
    "count = Count([det])\n",
    "RE(count, LiveTable([det]))"
   ]
  },
  {
   "cell_type": "markdown",
   "metadata": {},
   "source": [
    "The `count` object encapsulates a list of messages."
   ]
  },
  {
   "cell_type": "code",
   "execution_count": 0,
   "metadata": {
    "collapsed": false
   },
   "outputs": [],
   "source": [
    "list(count)"
   ]
  },
  {
   "cell_type": "markdown",
   "metadata": {},
   "source": [
    "We can edit the attributes of count, causing that list to change."
   ]
  },
  {
   "cell_type": "code",
   "execution_count": 0,
   "metadata": {
    "collapsed": false
   },
   "outputs": [],
   "source": [
    "count.num"
   ]
  },
  {
   "cell_type": "code",
   "execution_count": 0,
   "metadata": {
    "collapsed": false
   },
   "outputs": [],
   "source": [
    "len(list(count))  # how many messages does it issue?"
   ]
  },
  {
   "cell_type": "code",
   "execution_count": 0,
   "metadata": {
    "collapsed": false
   },
   "outputs": [],
   "source": [
    "count.num = 2\n",
    "len(list(count))  # how about now?"
   ]
  },
  {
   "cell_type": "code",
   "execution_count": 0,
   "metadata": {
    "collapsed": false
   },
   "outputs": [],
   "source": [
    "RE(count, LiveTable([det]))"
   ]
  },
  {
   "cell_type": "markdown",
   "metadata": {},
   "source": [
    "It might be convenient to have more than one instance of `Count` at our disposal."
   ]
  },
  {
   "cell_type": "code",
   "execution_count": 0,
   "metadata": {
    "collapsed": true
   },
   "outputs": [],
   "source": [
    "count_to_ten = Count([det], num=10)"
   ]
  },
  {
   "cell_type": "markdown",
   "metadata": {},
   "source": [
    "## 1D Scans\n",
    "\n",
    "The most common 1D step scan takes linearly spaced steps. This is what `AbsScanPlan` and `DeltaScanPlan` do."
   ]
  },
  {
   "cell_type": "code",
   "execution_count": 0,
   "metadata": {
    "collapsed": true
   },
   "outputs": [],
   "source": [
    "from bluesky.plans import AbsScanPlan, DeltaScanPlan, AbsListScanPlan, DeltaListScanPlan"
   ]
  },
  {
   "cell_type": "code",
   "execution_count": 0,
   "metadata": {
    "collapsed": false
   },
   "outputs": [],
   "source": [
    "RE(AbsScanPlan([det], motor, 1, 5, 5), LiveTable([motor, det]))"
   ]
  },
  {
   "cell_type": "code",
   "execution_count": 0,
   "metadata": {
    "collapsed": false
   },
   "outputs": [],
   "source": [
    "motor.set(10)  # move the motor to 10; this is where the relative motion of the \"DeltaScanPlan\" will start"
   ]
  },
  {
   "cell_type": "code",
   "execution_count": 0,
   "metadata": {
    "collapsed": false
   },
   "outputs": [],
   "source": [
    "RE(DeltaScanPlan([det], motor, 1, 5, 5), LiveTable([motor, det]))"
   ]
  },
  {
   "cell_type": "markdown",
   "metadata": {},
   "source": [
    "The steps need not be linearly spaced; we can specify a list of positions manually."
   ]
  },
  {
   "cell_type": "code",
   "execution_count": 0,
   "metadata": {
    "collapsed": false
   },
   "outputs": [],
   "source": [
    "RE(AbsListScanPlan([det], motor, [1, 3, 7, 15]), LiveTable([motor, det]))"
   ]
  },
  {
   "cell_type": "markdown",
   "metadata": {},
   "source": [
    "There are also log-spaced options `LogAbsScanPlan` and `LogDeltaScanPlan`."
   ]
  },
  {
   "cell_type": "markdown",
   "metadata": {},
   "source": [
    "## Scans that Move Motors in Parallel\n",
    "\n",
    "We call these \"inner product\" scans because the overall trajectory is in a sense an inner product of the individual motors' trajectories."
   ]
  },
  {
   "cell_type": "code",
   "execution_count": 0,
   "metadata": {
    "collapsed": false
   },
   "outputs": [],
   "source": [
    "from bluesky.plans import InnerProductAbsScanPlan, InnerProductDeltaScanPlan\n",
    "from bluesky.examples import motor1, motor2\n",
    "# Turn of \"fake sleeping\" that simulates motors moving.\n",
    "motor1._fake_sleep = 0\n",
    "motor2._fake_sleep = 0"
   ]
  },
  {
   "cell_type": "markdown",
   "metadata": {},
   "source": [
    "Let's plan a 5-point trajectory moving motor1 from 1 to 5 and motor2 for 10 to 50 in linearly spaced steps."
   ]
  },
  {
   "cell_type": "code",
   "execution_count": 0,
   "metadata": {
    "collapsed": false
   },
   "outputs": [],
   "source": [
    "plan = InnerProductAbsScanPlan([det], 5, motor1, 1, 5, motor2, 10, 50)\n",
    "RE(plan, LiveTable(['motor1', 'motor2']))"
   ]
  },
  {
   "cell_type": "markdown",
   "metadata": {},
   "source": [
    "We are not limited to two motors. This works for any number."
   ]
  },
  {
   "cell_type": "markdown",
   "metadata": {},
   "source": [
    "## Scans that Move Motors in a Mesh\n",
    "\n",
    "We call mesh scans \"output product\" scans because the overall trajectory is in a sense an outer product of the individual motors' trajectories."
   ]
  },
  {
   "cell_type": "code",
   "execution_count": 0,
   "metadata": {
    "collapsed": true
   },
   "outputs": [],
   "source": [
    "from bluesky.plans import OuterProductAbsScanPlan, OuterProductDeltaScanPlan"
   ]
  },
  {
   "cell_type": "markdown",
   "metadata": {},
   "source": [
    "Let's move motor1 in 5 steps from 1 to 5 and motor2 in 3 steps from 10 to 3. Unlike the inner product scans, each motor can take different number of steps, so we specify them separately."
   ]
  },
  {
   "cell_type": "code",
   "execution_count": 0,
   "metadata": {
    "collapsed": false
   },
   "outputs": [],
   "source": [
    "plan = OuterProductAbsScanPlan([det], motor1, 1, 5, 5, motor2, 10, 30, 3, False)  # We explain the 'False' argument later.\n",
    "RE(plan, LiveTable(['motor1', 'motor2']))"
   ]
  },
  {
   "cell_type": "markdown",
   "metadata": {},
   "source": [
    "Notice that the first motor is the \"slow\" motor and the second motor is the \"fast\" motor. By choosing the order the motors are given, you choose the path that the mesh is traversed.\n",
    "\n",
    "In addition to start, stop, and number of steps, every motor except the slowest motor gets a True or False argument that indicates where it should take a snake-like trajectory for maximum efficiency. Observe the difference if we set motor's `snake` argument to `True`. (It was `False` above.)"
   ]
  },
  {
   "cell_type": "code",
   "execution_count": 0,
   "metadata": {
    "collapsed": false
   },
   "outputs": [],
   "source": [
    "plan = OuterProductAbsScanPlan([det], motor1, 1, 5, 5, motor2, 10, 30, 3, True)\n",
    "RE(plan, LiveTable(['motor1', 'motor2']))"
   ]
  },
  {
   "cell_type": "markdown",
   "metadata": {},
   "source": [
    "## Generalized ND Scans\n",
    "\n",
    "What about a scan that moves two motors together (an inner product) in a mesh (outer product) against a third motor? To define arbitrary N-dimensional compositions of trajectories, we use `cycler`. Adding two cyclers makes an inner product; multiplying two cyclers makes an outer product."
   ]
  },
  {
   "cell_type": "code",
   "execution_count": 0,
   "metadata": {
    "collapsed": true
   },
   "outputs": [],
   "source": [
    "from cycler import cycler"
   ]
  },
  {
   "cell_type": "code",
   "execution_count": 0,
   "metadata": {
    "collapsed": false
   },
   "outputs": [],
   "source": [
    "list(cycler(motor1, [1, 2, 3]) + cycler(motor2, [10, 20, 30]))"
   ]
  },
  {
   "cell_type": "code",
   "execution_count": 0,
   "metadata": {
    "collapsed": false
   },
   "outputs": [],
   "source": [
    "list(cycler(motor1, [1, 2, 3]) * cycler(motor2, [10, 20, 30]))"
   ]
  },
  {
   "cell_type": "markdown",
   "metadata": {},
   "source": [
    "The ScanND object accepts a cycler and makes it into a plan."
   ]
  },
  {
   "cell_type": "code",
   "execution_count": 0,
   "metadata": {
    "collapsed": false
   },
   "outputs": [],
   "source": [
    "from bluesky import PlanND\n",
    "from bluesky.examples import motor3\n",
    "motor3._fake_sleep = 0 \n",
    "\n",
    "inner = cycler(motor1, [1, 2, 3]) + cycler(motor2, [10, 20, 30])\n",
    "plan = PlanND([det], inner)\n",
    "RE(plan, LiveTable([motor1, motor2]))"
   ]
  },
  {
   "cell_type": "code",
   "execution_count": 0,
   "metadata": {
    "collapsed": false
   },
   "outputs": [],
   "source": [
    "plan = PlanND([det], inner * cycler(motor3, [4, 5, 6]))\n",
    "RE(plan, LiveTable([motor1, motor2, motor3]))"
   ]
  },
  {
   "cell_type": "markdown",
   "metadata": {},
   "source": [
    "## Adaptive Scans"
   ]
  },
  {
   "cell_type": "code",
   "execution_count": 0,
   "metadata": {
    "collapsed": false
   },
   "outputs": [],
   "source": [
    "from bluesky.plans import AdaptiveAbsScanPlan\n",
    "\n",
    "# minimum step size 0.01\n",
    "# maximum step size 1\n",
    "# desired delta between steps 0.05\n",
    "# backward motion is allowed (True)\n",
    "\n",
    "ad_scan = AdaptiveAbsScanPlan([det], 'det', motor, -15, 10, .01, 5, .05, True)\n",
    "\n",
    "# We'll include a plot.\n",
    "%matplotlib notebook\n",
    "from bluesky.callbacks import LivePlot\n",
    "\n",
    "RE(ad_scan, [LiveTable(['det', 'motor']), LivePlot('det', 'motor', markersize=10, marker='o')])"
   ]
  },
  {
   "cell_type": "code",
   "execution_count": 0,
   "metadata": {
    "collapsed": true
   },
   "outputs": [],
   "source": []
  }
 ],
 "metadata": {
  "kernelspec": {
   "display_name": "Python 3",
   "language": "python",
   "name": "python3"
  },
  "language_info": {
   "codemirror_mode": {
    "name": "ipython",
    "version": 3
   },
   "file_extension": ".py",
   "mimetype": "text/x-python",
   "name": "python",
   "nbconvert_exporter": "python",
   "pygments_lexer": "ipython3",
   "version": "3.4.4"
  }
 },
 "nbformat": 4,
 "nbformat_minor": 0
}