{
 "cells": [
  {
   "cell_type": "markdown",
   "metadata": {},
   "source": [
    "# Metadata Use Cases\n",
    "\n",
    "The user can add arbitrary metadata fields. Only a handful are required (owner, group, beamline_id). The metadata can be a number, a string, a list, or a dictionary with any amount of nesting. These custom fields are stored in the RunStart Document as siblings of the required fields, and the Data Broker can search on them."
   ]
  },
  {
   "cell_type": "code",
   "execution_count": 0,
   "metadata": {
    "collapsed": true
   },
   "outputs": [],
   "source": [
    "from bluesky import RunEngine, Msg"
   ]
  },
  {
   "cell_type": "markdown",
   "metadata": {},
   "source": [
    "## The metadata validator\n",
    "\n",
    "The RunEngine has a metadata validating function to check that all required metadata is present and valid. It is up to individual beamlines and users to decide what this means.\n",
    "\n",
    "### Let's trip the validator"
   ]
  },
  {
   "cell_type": "code",
   "execution_count": 0,
   "metadata": {
    "collapsed": true
   },
   "outputs": [],
   "source": [
    "plan = [Msg('open_run'), Msg('close_run')]  # a pointless plan"
   ]
  },
  {
   "cell_type": "code",
   "execution_count": 0,
   "metadata": {
    "collapsed": true
   },
   "outputs": [],
   "source": [
    "RE = RunEngine({})"
   ]
  },
  {
   "cell_type": "code",
   "execution_count": 0,
   "metadata": {
    "collapsed": false
   },
   "outputs": [],
   "source": [
    "RE(plan)"
   ]
  },
  {
   "cell_type": "markdown",
   "metadata": {},
   "source": [
    "### What happens if replace the default validator with one that does nothing?\n",
    "\n",
    "The metadata validating function must accept a dictionary as its argument. Unless the function raises an error, the RunEngine will assume all is well and proceed with the instructions."
   ]
  },
  {
   "cell_type": "code",
   "execution_count": 0,
   "metadata": {
    "collapsed": true
   },
   "outputs": [],
   "source": [
    "def permissive_validator(md):\n",
    "    pass"
   ]
  },
  {
   "cell_type": "code",
   "execution_count": 0,
   "metadata": {
    "collapsed": true
   },
   "outputs": [],
   "source": [
    "RE.md_validator = permissive_validator"
   ]
  },
  {
   "cell_type": "code",
   "execution_count": 0,
   "metadata": {
    "collapsed": false
   },
   "outputs": [],
   "source": [
    "RE(plan)"
   ]
  },
  {
   "cell_type": "markdown",
   "metadata": {},
   "source": [
    "We tripped the hard-coded Document validatation. There is no getting around this. (If there were, the errors would just occur all the way down in mongo!)\n",
    "\n",
    "The moral: Your can use a custom metadata validator to be *more* strict, but there is no point in trying to make it less strict."
   ]
  },
  {
   "cell_type": "code",
   "execution_count": 0,
   "metadata": {
    "collapsed": true
   },
   "outputs": [],
   "source": [
    "RE.md = {'owner': 'demo', 'group': 'demo', 'beamline_id': 'demo'}  "
   ]
  },
  {
   "cell_type": "markdown",
   "metadata": {},
   "source": [
    "### Now use the validator to check for some beamline- or experiment-specific metadata."
   ]
  },
  {
   "cell_type": "code",
   "execution_count": 0,
   "metadata": {
    "collapsed": true
   },
   "outputs": [],
   "source": [
    "def color_validator(md):\n",
    "    if 'color' not in md:\n",
    "        raise ValueError(\"You must specify a color.\")\n",
    "        \n",
    "RE.md_validator = color_validator"
   ]
  },
  {
   "cell_type": "markdown",
   "metadata": {},
   "source": [
    "This will trip the validator:"
   ]
  },
  {
   "cell_type": "code",
   "execution_count": 0,
   "metadata": {
    "collapsed": false
   },
   "outputs": [],
   "source": [
    "RE(plan)"
   ]
  },
  {
   "cell_type": "markdown",
   "metadata": {},
   "source": [
    "## Three ways to set metadata"
   ]
  },
  {
   "cell_type": "markdown",
   "metadata": {},
   "source": [
    "### We can set the metadata when we run a scan."
   ]
  },
  {
   "cell_type": "code",
   "execution_count": 0,
   "metadata": {
    "collapsed": false
   },
   "outputs": [],
   "source": [
    "RE(plan, color='red')"
   ]
  },
  {
   "cell_type": "markdown",
   "metadata": {},
   "source": [
    "It does not persist between runs."
   ]
  },
  {
   "cell_type": "code",
   "execution_count": 0,
   "metadata": {
    "collapsed": false
   },
   "outputs": [],
   "source": [
    "RE(plan)"
   ]
  },
  {
   "cell_type": "markdown",
   "metadata": {},
   "source": [
    "### We can add the metadata to the RunEngine's metadata dictionary, which is reused for subsequent runs."
   ]
  },
  {
   "cell_type": "code",
   "execution_count": 0,
   "metadata": {
    "collapsed": true
   },
   "outputs": [],
   "source": [
    "RE.md['color'] = 'red'"
   ]
  },
  {
   "cell_type": "code",
   "execution_count": 0,
   "metadata": {
    "collapsed": false
   },
   "outputs": [],
   "source": [
    "RE(plan)  # this picks up color=red from RE.md"
   ]
  },
  {
   "cell_type": "markdown",
   "metadata": {},
   "source": [
    "Now that `color` is in `RE.md`, it is updated if we specify it."
   ]
  },
  {
   "cell_type": "code",
   "execution_count": 0,
   "metadata": {
    "collapsed": false
   },
   "outputs": [],
   "source": [
    "RE(plan, color='blue')  # this updates RE.md['color'] as a side effect"
   ]
  },
  {
   "cell_type": "code",
   "execution_count": 0,
   "metadata": {
    "collapsed": false
   },
   "outputs": [],
   "source": [
    "RE.md['color']"
   ]
  },
  {
   "cell_type": "markdown",
   "metadata": {},
   "source": [
    "To stop persisting color between runs, delete it."
   ]
  },
  {
   "cell_type": "code",
   "execution_count": 0,
   "metadata": {
    "collapsed": true
   },
   "outputs": [],
   "source": [
    "del RE.md['color']"
   ]
  },
  {
   "cell_type": "markdown",
   "metadata": {},
   "source": [
    "And now this will error again:"
   ]
  },
  {
   "cell_type": "code",
   "execution_count": 0,
   "metadata": {
    "collapsed": false
   },
   "outputs": [],
   "source": [
    "RE(plan)"
   ]
  },
  {
   "cell_type": "markdown",
   "metadata": {},
   "source": [
    "### It is also possible to associated metadata with the plan itself.\n",
    "\n",
    "This is rarely necessary."
   ]
  },
  {
   "cell_type": "code",
   "execution_count": 0,
   "metadata": {
    "collapsed": true
   },
   "outputs": [],
   "source": [
    "plan_with_md = [Msg('open_run', color='green'), Msg('close_run')]"
   ]
  },
  {
   "cell_type": "code",
   "execution_count": 0,
   "metadata": {
    "collapsed": false
   },
   "outputs": [],
   "source": [
    "RE(plan_with_md)"
   ]
  },
  {
   "cell_type": "markdown",
   "metadata": {},
   "source": [
    "### Persistence between sessions\n",
    "\n",
    "Above we have used an ordinary Python dictionary for `RE.md`. In fact, we can use anything that behaves like a dictionary. In bluesky's standard configuration, we use a custom-made object called `History` that behaves like a dictionary but backs up its contents to disk in a small file. That way, the contents are restored between sessions.\n",
    "\n",
    "```\n",
    "from history import History\n",
    "RE.md = History('metadata.db')\n",
    "```\n",
    "\n",
    "And the `History` object adds one more useful feature we won't cover here -- see the [documentation](https://github.com/Nikea/history#examples) for details."
   ]
  },
  {
   "cell_type": "markdown",
   "metadata": {},
   "source": [
    "## Searching on Custom Metadata"
   ]
  },
  {
   "cell_type": "markdown",
   "metadata": {},
   "source": [
    "First we'll run some experiments and put the results in metadatastore."
   ]
  },
  {
   "cell_type": "code",
   "execution_count": 0,
   "metadata": {
    "collapsed": true
   },
   "outputs": [],
   "source": [
    "from bluesky.register_mds import register_mds\n",
    "\n",
    "register_mds(RE)  # hook up our RunEngine to metadatastore"
   ]
  },
  {
   "cell_type": "code",
   "execution_count": 0,
   "metadata": {
    "collapsed": false
   },
   "outputs": [],
   "source": [
    "RE(plan, user='dan', color='pink', mood='optimistic')\n",
    "RE(plan, user='dan', color='pink', mood='optimistic')\n",
    "RE(plan, user='dan', color='purple', mood='optimistic', doubts=None)\n",
    "RE(plan, user='dan', color='purple', mood='skeptical', doubts='serious')"
   ]
  },
  {
   "cell_type": "markdown",
   "metadata": {},
   "source": [
    "Let's retrieve the 'skeptical' run. There should be just one."
   ]
  },
  {
   "cell_type": "code",
   "execution_count": 0,
   "metadata": {
    "collapsed": false
   },
   "outputs": [],
   "source": [
    "from databroker import DataBroker as db\n",
    "\n",
    "headers = db(mood='skeptical')"
   ]
  },
  {
   "cell_type": "code",
   "execution_count": 0,
   "metadata": {
    "collapsed": false
   },
   "outputs": [],
   "source": [
    "len(headers)"
   ]
  },
  {
   "cell_type": "code",
   "execution_count": 0,
   "metadata": {
    "collapsed": false
   },
   "outputs": [],
   "source": [
    "headers[0]"
   ]
  },
  {
   "cell_type": "markdown",
   "metadata": {},
   "source": [
    "We should find three 'optimistic' runs."
   ]
  },
  {
   "cell_type": "code",
   "execution_count": 0,
   "metadata": {
    "collapsed": false
   },
   "outputs": [],
   "source": [
    "len(db(mood='optimistic'))"
   ]
  },
  {
   "cell_type": "markdown",
   "metadata": {},
   "source": [
    "Use MongoDB syntax to form complex queries. See [MongoDB documentation](https://docs.mongodb.org/manual/tutorial/query-documents/) for more."
   ]
  },
  {
   "cell_type": "code",
   "execution_count": 0,
   "metadata": {
    "collapsed": false
   },
   "outputs": [],
   "source": [
    "query = {'$and': [{'mood': 'optimistic'}, {'color': 'purple'}]}  # optimistic and purple\n",
    "len(db(**query))"
   ]
  },
  {
   "cell_type": "code",
   "execution_count": 0,
   "metadata": {
    "collapsed": false
   },
   "outputs": [],
   "source": [
    "len(db(doubts={'$exists': True}))  # where doubts was specified, with no restriction on its value"
   ]
  },
  {
   "cell_type": "markdown",
   "metadata": {},
   "source": [
    "Let's generate more data, this time making use of persistent metadata. We'll set some sample information in `RE.md` and see that it applies to all future runs."
   ]
  },
  {
   "cell_type": "code",
   "execution_count": 0,
   "metadata": {
    "collapsed": false
   },
   "outputs": [],
   "source": [
    "RE.md['sample'] = {'element': 'Au', 'mass': 10, 'dimensions': (1, 5, 10)}\n",
    "\n",
    "RE(plan, color='yellow')\n",
    "RE(plan, color='yellow')\n",
    "RE(plan, color='yellow')\n",
    "\n",
    "RE.md['sample']['mass'] = 20\n",
    "RE.md['sample']['dimensions'] = (2, 5, 20)\n",
    "\n",
    "RE(plan, color='yellow')\n",
    "RE(plan, color='yellow')\n",
    "RE(plan, color='yellow')"
   ]
  },
  {
   "cell_type": "code",
   "execution_count": 0,
   "metadata": {
    "collapsed": false
   },
   "outputs": [],
   "source": [
    "query = {'sample.element': 'Au'}\n",
    "len(db(**query))"
   ]
  },
  {
   "cell_type": "code",
   "execution_count": 0,
   "metadata": {
    "collapsed": false
   },
   "outputs": [],
   "source": [
    "query = {'sample.mass': 10}\n",
    "len(db(**query))"
   ]
  }
 ],
 "metadata": {
  "kernelspec": {
   "display_name": "Python 3",
   "language": "python",
   "name": "python3"
  },
  "language_info": {
   "codemirror_mode": {
    "name": "ipython",
    "version": 3
   },
   "file_extension": ".py",
   "mimetype": "text/x-python",
   "name": "python",
   "nbconvert_exporter": "python",
   "pygments_lexer": "ipython3",
   "version": "3.4.3"
  }
 },
 "nbformat": 4,
 "nbformat_minor": 0
}